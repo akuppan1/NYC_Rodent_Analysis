{
 "cells": [
  {
   "cell_type": "code",
   "execution_count": 94,
   "metadata": {},
   "outputs": [],
   "source": [
    "import pandas as pd\n",
    "import matplotlib.pyplot as plt\n",
    "import numpy as np\n",
    "import seaborn as sns\n",
    "import plotly.express as px"
   ]
  },
  {
   "cell_type": "code",
   "execution_count": 95,
   "metadata": {},
   "outputs": [],
   "source": [
    "year = 2022"
   ]
  },
  {
   "cell_type": "code",
   "execution_count": 96,
   "metadata": {},
   "outputs": [],
   "source": [
    "df_rodent_inspection = pd.read_csv('Rodent_Inspection.csv')"
   ]
  },
  {
   "cell_type": "code",
   "execution_count": 97,
   "metadata": {},
   "outputs": [],
   "source": [
    "df_rodent_inspection = df_rodent_inspection.dropna()"
   ]
  },
  {
   "cell_type": "code",
   "execution_count": 98,
   "metadata": {},
   "outputs": [],
   "source": [
    "df_rodent_inspection = df_rodent_inspection[df_rodent_inspection['INSPECTION_DATE'].str.contains(f'{year}')]"
   ]
  },
  {
   "cell_type": "code",
   "execution_count": 99,
   "metadata": {},
   "outputs": [
    {
     "data": {
      "text/plain": [
       "Brooklyn         4584\n",
       "Bronx            2539\n",
       "Manhattan        2419\n",
       "Queens           2212\n",
       "Staten Island     378\n",
       "Name: BOROUGH, dtype: int64"
      ]
     },
     "execution_count": 99,
     "metadata": {},
     "output_type": "execute_result"
    }
   ],
   "source": [
    "df_rodent_inspection['BOROUGH'].value_counts()"
   ]
  },
  {
   "cell_type": "code",
   "execution_count": 100,
   "metadata": {},
   "outputs": [
    {
     "data": {
      "text/plain": [
       "Initial       6764\n",
       "Compliance    3591\n",
       "BAIT          1743\n",
       "CLEAN_UPS       21\n",
       "STOPPAGE        13\n",
       "Name: INSPECTION_TYPE, dtype: int64"
      ]
     },
     "execution_count": 100,
     "metadata": {},
     "output_type": "execute_result"
    }
   ],
   "source": [
    "df_rodent_inspection['INSPECTION_TYPE'].value_counts().nlargest(n=10)"
   ]
  },
  {
   "cell_type": "code",
   "execution_count": 101,
   "metadata": {},
   "outputs": [
    {
     "data": {
      "text/plain": [
       "11216.0    335\n",
       "11238.0    298\n",
       "11235.0    271\n",
       "11237.0    260\n",
       "11385.0    239\n",
       "10458.0    237\n",
       "10467.0    236\n",
       "11221.0    236\n",
       "11211.0    224\n",
       "11213.0    215\n",
       "Name: ZIP_CODE, dtype: int64"
      ]
     },
     "execution_count": 101,
     "metadata": {},
     "output_type": "execute_result"
    }
   ],
   "source": [
    "df_rodent_inspection['ZIP_CODE'].value_counts().nlargest(n=10)"
   ]
  },
  {
   "cell_type": "code",
   "execution_count": 102,
   "metadata": {},
   "outputs": [
    {
     "data": {
      "text/plain": [
       "Passed                4569\n",
       "Rat Activity          4242\n",
       "Failed for Other R    1544\n",
       "Bait applied          1384\n",
       "Monitoring visit       359\n",
       "Cleanup done            21\n",
       "Stoppage done           13\n",
       "Name: RESULT, dtype: int64"
      ]
     },
     "execution_count": 102,
     "metadata": {},
     "output_type": "execute_result"
    }
   ],
   "source": [
    "df_rodent_inspection['RESULT'].value_counts().nlargest(n=10)"
   ]
  },
  {
   "cell_type": "code",
   "execution_count": 103,
   "metadata": {},
   "outputs": [],
   "source": [
    "df_rodent_inspection_rats = df_rodent_inspection[df_rodent_inspection['RESULT'] == 'Rat Activity']"
   ]
  },
  {
   "cell_type": "code",
   "execution_count": 104,
   "metadata": {},
   "outputs": [
    {
     "data": {
      "text/plain": [
       "11237.0    145\n",
       "10458.0    136\n",
       "10467.0    124\n",
       "11216.0    124\n",
       "11238.0    117\n",
       "10468.0    105\n",
       "11213.0    100\n",
       "10026.0    100\n",
       "11221.0    100\n",
       "10457.0     96\n",
       "Name: ZIP_CODE, dtype: int64"
      ]
     },
     "execution_count": 104,
     "metadata": {},
     "output_type": "execute_result"
    }
   ],
   "source": [
    "df_rodent_inspection_rats['ZIP_CODE'].value_counts().nlargest(n=10)"
   ]
  },
  {
   "cell_type": "code",
   "execution_count": 105,
   "metadata": {},
   "outputs": [
    {
     "data": {
      "text/plain": [
       "Brooklyn         1588\n",
       "Bronx            1138\n",
       "Manhattan        1052\n",
       "Queens            414\n",
       "Staten Island      50\n",
       "Name: BOROUGH, dtype: int64"
      ]
     },
     "execution_count": 105,
     "metadata": {},
     "output_type": "execute_result"
    }
   ],
   "source": [
    "df_rodent_inspection_rats['BOROUGH'].value_counts()"
   ]
  },
  {
   "cell_type": "code",
   "execution_count": 106,
   "metadata": {},
   "outputs": [
    {
     "data": {
      "text/plain": [
       "<AxesSubplot:title={'center':'RAT ACTIVITY OCCURENCES IN YEAR 2022'}>"
      ]
     },
     "execution_count": 106,
     "metadata": {},
     "output_type": "execute_result"
    },
    {
     "data": {
      "image/png": "[encoded data removed]",
      "text/plain": [
       "<Figure size 432x288 with 1 Axes>"
      ]
     },
     "metadata": {
      "needs_background": "light"
     },
     "output_type": "display_data"
    }
   ],
   "source": [
    "df_rodent_inspection_rats['BOROUGH'].value_counts().plot(kind='bar', title=f'RAT ACTIVITY OCCURENCES IN YEAR {year}')"
   ]
  }
 ],
 "metadata": {
  "kernelspec": {
   "display_name": "Python 3",
   "language": "python",
   "name": "python3"
  },
  "language_info": {
   "codemirror_mode": {
    "name": "ipython",
    "version": 3
   },
   "file_extension": ".py",
   "mimetype": "text/x-python",
   "name": "python",
   "nbconvert_exporter": "python",
   "pygments_lexer": "ipython3",
   "version": "3.8.5"
  }
 },
 "nbformat": 4,
 "nbformat_minor": 4
}
