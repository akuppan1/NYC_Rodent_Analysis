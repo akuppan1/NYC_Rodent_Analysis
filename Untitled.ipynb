{
 "cells": [
  {
   "cell_type": "code",
   "execution_count": 97,
   "metadata": {},
   "outputs": [],
   "source": [
    "import pandas as pd\n",
    "import matplotlib.pyplot as plt\n",
    "import numpy as np\n",
    "import seaborn as sns\n",
    "import plotly.express as px"
   ]
  },
  {
   "cell_type": "code",
   "execution_count": 98,
   "metadata": {},
   "outputs": [],
   "source": [
    "df_rodent_inspection = pd.read_csv('Rodent_Inspection.csv')"
   ]
  },
  {
   "cell_type": "code",
   "execution_count": 99,
   "metadata": {},
   "outputs": [
    {
     "name": "stdout",
     "output_type": "stream",
     "text": [
      "<class 'pandas.core.frame.DataFrame'>\n",
      "RangeIndex: 2075120 entries, 0 to 2075119\n",
      "Data columns (total 20 columns):\n",
      " #   Column                       Dtype  \n",
      "---  ------                       -----  \n",
      " 0   INSPECTION_TYPE              object \n",
      " 1   JOB_TICKET_OR_WORK_ORDER_ID  int64  \n",
      " 2   JOB_ID                       object \n",
      " 3   JOB_PROGRESS                 int64  \n",
      " 4   BBL                          int64  \n",
      " 5   BORO_CODE                    int64  \n",
      " 6   BLOCK                        int64  \n",
      " 7   LOT                          int64  \n",
      " 8   HOUSE_NUMBER                 object \n",
      " 9   STREET_NAME                  object \n",
      " 10  ZIP_CODE                     float64\n",
      " 11  X_COORD                      float64\n",
      " 12  Y_COORD                      float64\n",
      " 13  LATITUDE                     float64\n",
      " 14  LONGITUDE                    float64\n",
      " 15  BOROUGH                      object \n",
      " 16  INSPECTION_DATE              object \n",
      " 17  RESULT                       object \n",
      " 18  APPROVED_DATE                object \n",
      " 19  LOCATION                     object \n",
      "dtypes: float64(5), int64(6), object(9)\n",
      "memory usage: 316.6+ MB\n"
     ]
    }
   ],
   "source": [
    "df_rodent_inspection.info()"
   ]
  },
  {
   "cell_type": "code",
   "execution_count": 100,
   "metadata": {},
   "outputs": [
    {
     "data": {
      "text/plain": [
       "True"
      ]
     },
     "execution_count": 100,
     "metadata": {},
     "output_type": "execute_result"
    }
   ],
   "source": [
    "df_rodent_inspection['INSPECTION_DATE'].isnull().values.any()"
   ]
  },
  {
   "cell_type": "code",
   "execution_count": 101,
   "metadata": {},
   "outputs": [
    {
     "data": {
      "text/plain": [
       "17"
      ]
     },
     "execution_count": 101,
     "metadata": {},
     "output_type": "execute_result"
    }
   ],
   "source": [
    "df_rodent_inspection['INSPECTION_DATE'].isnull().sum()"
   ]
  },
  {
   "cell_type": "code",
   "execution_count": 102,
   "metadata": {},
   "outputs": [],
   "source": [
    "df_rodent_inspection = df_rodent_inspection.dropna()"
   ]
  },
  {
   "cell_type": "code",
   "execution_count": 103,
   "metadata": {},
   "outputs": [],
   "source": [
    "year = 2020\n",
    "df_rodent_inspection = df_rodent_inspection[df_rodent_inspection['INSPECTION_DATE'].str.contains(f'{year}')]"
   ]
  },
  {
   "cell_type": "code",
   "execution_count": 104,
   "metadata": {},
   "outputs": [
    {
     "data": {
      "text/plain": [
       "0"
      ]
     },
     "execution_count": 104,
     "metadata": {},
     "output_type": "execute_result"
    }
   ],
   "source": [
    "df_rodent_inspection['INSPECTION_DATE'].isnull().sum()"
   ]
  },
  {
   "cell_type": "code",
   "execution_count": 105,
   "metadata": {},
   "outputs": [
    {
     "data": {
      "text/html": [
       "<div>\n",
       "<style scoped>\n",
       "    .dataframe tbody tr th:only-of-type {\n",
       "        vertical-align: middle;\n",
       "    }\n",
       "\n",
       "    .dataframe tbody tr th {\n",
       "        vertical-align: top;\n",
       "    }\n",
       "\n",
       "    .dataframe thead th {\n",
       "        text-align: right;\n",
       "    }\n",
       "</style>\n",
       "<table border=\"1\" class=\"dataframe\">\n",
       "  <thead>\n",
       "    <tr style=\"text-align: right;\">\n",
       "      <th></th>\n",
       "      <th>INSPECTION_TYPE</th>\n",
       "      <th>JOB_TICKET_OR_WORK_ORDER_ID</th>\n",
       "      <th>JOB_ID</th>\n",
       "      <th>JOB_PROGRESS</th>\n",
       "      <th>BBL</th>\n",
       "      <th>BORO_CODE</th>\n",
       "      <th>BLOCK</th>\n",
       "      <th>LOT</th>\n",
       "      <th>HOUSE_NUMBER</th>\n",
       "      <th>STREET_NAME</th>\n",
       "      <th>ZIP_CODE</th>\n",
       "      <th>X_COORD</th>\n",
       "      <th>Y_COORD</th>\n",
       "      <th>LATITUDE</th>\n",
       "      <th>LONGITUDE</th>\n",
       "      <th>BOROUGH</th>\n",
       "      <th>INSPECTION_DATE</th>\n",
       "      <th>RESULT</th>\n",
       "      <th>APPROVED_DATE</th>\n",
       "      <th>LOCATION</th>\n",
       "    </tr>\n",
       "  </thead>\n",
       "  <tbody>\n",
       "    <tr>\n",
       "      <th>10444</th>\n",
       "      <td>BAIT</td>\n",
       "      <td>2785062</td>\n",
       "      <td>PC6521672</td>\n",
       "      <td>3</td>\n",
       "      <td>1016650034</td>\n",
       "      <td>1</td>\n",
       "      <td>1665</td>\n",
       "      <td>34</td>\n",
       "      <td>234</td>\n",
       "      <td>EAST 116 STREET</td>\n",
       "      <td>10029.0</td>\n",
       "      <td>1001201.0</td>\n",
       "      <td>229693.0</td>\n",
       "      <td>40.797563</td>\n",
       "      <td>-73.939145</td>\n",
       "      <td>Manhattan</td>\n",
       "      <td>02/06/2020 11:50:15 AM</td>\n",
       "      <td>Monitoring visit</td>\n",
       "      <td>02/14/2020 08:04:04 AM</td>\n",
       "      <td>(40.797563323422, -73.939145367645)</td>\n",
       "    </tr>\n",
       "    <tr>\n",
       "      <th>24351</th>\n",
       "      <td>BAIT</td>\n",
       "      <td>2790205</td>\n",
       "      <td>PC6519854</td>\n",
       "      <td>7</td>\n",
       "      <td>1020110013</td>\n",
       "      <td>1</td>\n",
       "      <td>2011</td>\n",
       "      <td>13</td>\n",
       "      <td>145</td>\n",
       "      <td>WEST 142 STREET</td>\n",
       "      <td>10030.0</td>\n",
       "      <td>1001039.0</td>\n",
       "      <td>237758.0</td>\n",
       "      <td>40.819244</td>\n",
       "      <td>-73.939342</td>\n",
       "      <td>Manhattan</td>\n",
       "      <td>07/09/2020 12:43:23 PM</td>\n",
       "      <td>Bait applied</td>\n",
       "      <td>08/04/2020 10:53:03 AM</td>\n",
       "      <td>(40.819244179353, -73.939342241831)</td>\n",
       "    </tr>\n",
       "    <tr>\n",
       "      <th>25041</th>\n",
       "      <td>BAIT</td>\n",
       "      <td>2786784</td>\n",
       "      <td>PC7347954</td>\n",
       "      <td>5</td>\n",
       "      <td>3031870041</td>\n",
       "      <td>3</td>\n",
       "      <td>3187</td>\n",
       "      <td>41</td>\n",
       "      <td>167</td>\n",
       "      <td>STARR STREET</td>\n",
       "      <td>11237.0</td>\n",
       "      <td>1005172.0</td>\n",
       "      <td>195783.0</td>\n",
       "      <td>40.703846</td>\n",
       "      <td>-73.924383</td>\n",
       "      <td>Brooklyn</td>\n",
       "      <td>02/18/2020 01:45:00 PM</td>\n",
       "      <td>Bait applied</td>\n",
       "      <td>02/27/2020 03:17:23 PM</td>\n",
       "      <td>(40.703845649853, -73.924382592822)</td>\n",
       "    </tr>\n",
       "    <tr>\n",
       "      <th>25071</th>\n",
       "      <td>BAIT</td>\n",
       "      <td>2786253</td>\n",
       "      <td>PC7347954</td>\n",
       "      <td>4</td>\n",
       "      <td>3031870041</td>\n",
       "      <td>3</td>\n",
       "      <td>3187</td>\n",
       "      <td>41</td>\n",
       "      <td>167</td>\n",
       "      <td>STARR STREET</td>\n",
       "      <td>11237.0</td>\n",
       "      <td>1005172.0</td>\n",
       "      <td>195783.0</td>\n",
       "      <td>40.703846</td>\n",
       "      <td>-73.924383</td>\n",
       "      <td>Brooklyn</td>\n",
       "      <td>02/18/2020 01:45:00 PM</td>\n",
       "      <td>Bait applied</td>\n",
       "      <td>02/27/2020 03:17:23 PM</td>\n",
       "      <td>(40.703845649853, -73.924382592822)</td>\n",
       "    </tr>\n",
       "    <tr>\n",
       "      <th>27418</th>\n",
       "      <td>BAIT</td>\n",
       "      <td>2788257</td>\n",
       "      <td>PC7319536</td>\n",
       "      <td>6</td>\n",
       "      <td>3031480013</td>\n",
       "      <td>3</td>\n",
       "      <td>3148</td>\n",
       "      <td>13</td>\n",
       "      <td>106</td>\n",
       "      <td>FORREST STREET</td>\n",
       "      <td>11206.0</td>\n",
       "      <td>1003059.0</td>\n",
       "      <td>195301.0</td>\n",
       "      <td>40.702791</td>\n",
       "      <td>-73.932427</td>\n",
       "      <td>Brooklyn</td>\n",
       "      <td>03/04/2020 10:20:27 AM</td>\n",
       "      <td>Bait applied</td>\n",
       "      <td>03/09/2020 09:39:51 AM</td>\n",
       "      <td>(40.70279119063, -73.932426537761)</td>\n",
       "    </tr>\n",
       "    <tr>\n",
       "      <th>...</th>\n",
       "      <td>...</td>\n",
       "      <td>...</td>\n",
       "      <td>...</td>\n",
       "      <td>...</td>\n",
       "      <td>...</td>\n",
       "      <td>...</td>\n",
       "      <td>...</td>\n",
       "      <td>...</td>\n",
       "      <td>...</td>\n",
       "      <td>...</td>\n",
       "      <td>...</td>\n",
       "      <td>...</td>\n",
       "      <td>...</td>\n",
       "      <td>...</td>\n",
       "      <td>...</td>\n",
       "      <td>...</td>\n",
       "      <td>...</td>\n",
       "      <td>...</td>\n",
       "      <td>...</td>\n",
       "      <td>...</td>\n",
       "    </tr>\n",
       "    <tr>\n",
       "      <th>2074961</th>\n",
       "      <td>BAIT</td>\n",
       "      <td>2784150</td>\n",
       "      <td>PC6520482</td>\n",
       "      <td>2</td>\n",
       "      <td>1003890036</td>\n",
       "      <td>1</td>\n",
       "      <td>389</td>\n",
       "      <td>36</td>\n",
       "      <td>645</td>\n",
       "      <td>EAST 6 STREET</td>\n",
       "      <td>10009.0</td>\n",
       "      <td>989978.0</td>\n",
       "      <td>202965.0</td>\n",
       "      <td>40.723681</td>\n",
       "      <td>-73.979692</td>\n",
       "      <td>Manhattan</td>\n",
       "      <td>01/27/2020 11:00:27 AM</td>\n",
       "      <td>Bait applied</td>\n",
       "      <td>01/28/2020 08:12:42 AM</td>\n",
       "      <td>(40.723680527621, -73.979692000943)</td>\n",
       "    </tr>\n",
       "    <tr>\n",
       "      <th>2075019</th>\n",
       "      <td>Initial</td>\n",
       "      <td>12704640</td>\n",
       "      <td>PC6519780</td>\n",
       "      <td>1</td>\n",
       "      <td>1004630041</td>\n",
       "      <td>1</td>\n",
       "      <td>463</td>\n",
       "      <td>41</td>\n",
       "      <td>33</td>\n",
       "      <td>EAST 7 STREET</td>\n",
       "      <td>10003.0</td>\n",
       "      <td>987323.0</td>\n",
       "      <td>204698.0</td>\n",
       "      <td>40.728285</td>\n",
       "      <td>-73.988833</td>\n",
       "      <td>Manhattan</td>\n",
       "      <td>01/03/2020 01:15:03 PM</td>\n",
       "      <td>Passed</td>\n",
       "      <td>01/06/2020 10:19:28 AM</td>\n",
       "      <td>(40.728284754988, -73.988833253494)</td>\n",
       "    </tr>\n",
       "    <tr>\n",
       "      <th>2075034</th>\n",
       "      <td>Initial</td>\n",
       "      <td>13136903</td>\n",
       "      <td>PC7572445</td>\n",
       "      <td>1</td>\n",
       "      <td>3039800019</td>\n",
       "      <td>3</td>\n",
       "      <td>3980</td>\n",
       "      <td>19</td>\n",
       "      <td>582</td>\n",
       "      <td>LIBERTY AVENUE</td>\n",
       "      <td>11207.0</td>\n",
       "      <td>1015210.0</td>\n",
       "      <td>185434.0</td>\n",
       "      <td>40.675589</td>\n",
       "      <td>-73.888385</td>\n",
       "      <td>Brooklyn</td>\n",
       "      <td>02/18/2020 01:27:05 PM</td>\n",
       "      <td>Passed</td>\n",
       "      <td>02/19/2020 08:36:35 AM</td>\n",
       "      <td>(40.675588985547, -73.888385025946)</td>\n",
       "    </tr>\n",
       "    <tr>\n",
       "      <th>2075072</th>\n",
       "      <td>Initial</td>\n",
       "      <td>13191723</td>\n",
       "      <td>PC7652361</td>\n",
       "      <td>1</td>\n",
       "      <td>3036220056</td>\n",
       "      <td>3</td>\n",
       "      <td>3622</td>\n",
       "      <td>56</td>\n",
       "      <td>39</td>\n",
       "      <td>HEGEMAN AVENUE</td>\n",
       "      <td>11212.0</td>\n",
       "      <td>1009028.0</td>\n",
       "      <td>178204.0</td>\n",
       "      <td>40.655764</td>\n",
       "      <td>-73.910699</td>\n",
       "      <td>Brooklyn</td>\n",
       "      <td>11/12/2020 11:23:47 AM</td>\n",
       "      <td>Passed</td>\n",
       "      <td>11/24/2020 01:37:05 PM</td>\n",
       "      <td>(40.655763790066, -73.910698626561)</td>\n",
       "    </tr>\n",
       "    <tr>\n",
       "      <th>2075076</th>\n",
       "      <td>Initial</td>\n",
       "      <td>13143259</td>\n",
       "      <td>PC7536100</td>\n",
       "      <td>1</td>\n",
       "      <td>5001980141</td>\n",
       "      <td>5</td>\n",
       "      <td>198</td>\n",
       "      <td>141</td>\n",
       "      <td>1201</td>\n",
       "      <td>CASTLETON AVENUE</td>\n",
       "      <td>10310.0</td>\n",
       "      <td>950278.0</td>\n",
       "      <td>170407.0</td>\n",
       "      <td>40.634123</td>\n",
       "      <td>-74.122480</td>\n",
       "      <td>Staten Island</td>\n",
       "      <td>02/27/2020 01:50:11 PM</td>\n",
       "      <td>Passed</td>\n",
       "      <td>03/11/2020 03:13:04 PM</td>\n",
       "      <td>(40.634123445194, -74.122480120253)</td>\n",
       "    </tr>\n",
       "  </tbody>\n",
       "</table>\n",
       "<p>26624 rows × 20 columns</p>\n",
       "</div>"
      ],
      "text/plain": [
       "        INSPECTION_TYPE  JOB_TICKET_OR_WORK_ORDER_ID     JOB_ID  JOB_PROGRESS  \\\n",
       "10444              BAIT                      2785062  PC6521672             3   \n",
       "24351              BAIT                      2790205  PC6519854             7   \n",
       "25041              BAIT                      2786784  PC7347954             5   \n",
       "25071              BAIT                      2786253  PC7347954             4   \n",
       "27418              BAIT                      2788257  PC7319536             6   \n",
       "...                 ...                          ...        ...           ...   \n",
       "2074961            BAIT                      2784150  PC6520482             2   \n",
       "2075019         Initial                     12704640  PC6519780             1   \n",
       "2075034         Initial                     13136903  PC7572445             1   \n",
       "2075072         Initial                     13191723  PC7652361             1   \n",
       "2075076         Initial                     13143259  PC7536100             1   \n",
       "\n",
       "                BBL  BORO_CODE  BLOCK  LOT HOUSE_NUMBER       STREET_NAME  \\\n",
       "10444    1016650034          1   1665   34          234   EAST 116 STREET   \n",
       "24351    1020110013          1   2011   13          145   WEST 142 STREET   \n",
       "25041    3031870041          3   3187   41          167      STARR STREET   \n",
       "25071    3031870041          3   3187   41          167      STARR STREET   \n",
       "27418    3031480013          3   3148   13          106    FORREST STREET   \n",
       "...             ...        ...    ...  ...          ...               ...   \n",
       "2074961  1003890036          1    389   36          645     EAST 6 STREET   \n",
       "2075019  1004630041          1    463   41           33     EAST 7 STREET   \n",
       "2075034  3039800019          3   3980   19          582    LIBERTY AVENUE   \n",
       "2075072  3036220056          3   3622   56           39    HEGEMAN AVENUE   \n",
       "2075076  5001980141          5    198  141         1201  CASTLETON AVENUE   \n",
       "\n",
       "         ZIP_CODE    X_COORD   Y_COORD   LATITUDE  LONGITUDE        BOROUGH  \\\n",
       "10444     10029.0  1001201.0  229693.0  40.797563 -73.939145      Manhattan   \n",
       "24351     10030.0  1001039.0  237758.0  40.819244 -73.939342      Manhattan   \n",
       "25041     11237.0  1005172.0  195783.0  40.703846 -73.924383       Brooklyn   \n",
       "25071     11237.0  1005172.0  195783.0  40.703846 -73.924383       Brooklyn   \n",
       "27418     11206.0  1003059.0  195301.0  40.702791 -73.932427       Brooklyn   \n",
       "...           ...        ...       ...        ...        ...            ...   \n",
       "2074961   10009.0   989978.0  202965.0  40.723681 -73.979692      Manhattan   \n",
       "2075019   10003.0   987323.0  204698.0  40.728285 -73.988833      Manhattan   \n",
       "2075034   11207.0  1015210.0  185434.0  40.675589 -73.888385       Brooklyn   \n",
       "2075072   11212.0  1009028.0  178204.0  40.655764 -73.910699       Brooklyn   \n",
       "2075076   10310.0   950278.0  170407.0  40.634123 -74.122480  Staten Island   \n",
       "\n",
       "                INSPECTION_DATE            RESULT           APPROVED_DATE  \\\n",
       "10444    02/06/2020 11:50:15 AM  Monitoring visit  02/14/2020 08:04:04 AM   \n",
       "24351    07/09/2020 12:43:23 PM      Bait applied  08/04/2020 10:53:03 AM   \n",
       "25041    02/18/2020 01:45:00 PM      Bait applied  02/27/2020 03:17:23 PM   \n",
       "25071    02/18/2020 01:45:00 PM      Bait applied  02/27/2020 03:17:23 PM   \n",
       "27418    03/04/2020 10:20:27 AM      Bait applied  03/09/2020 09:39:51 AM   \n",
       "...                         ...               ...                     ...   \n",
       "2074961  01/27/2020 11:00:27 AM      Bait applied  01/28/2020 08:12:42 AM   \n",
       "2075019  01/03/2020 01:15:03 PM            Passed  01/06/2020 10:19:28 AM   \n",
       "2075034  02/18/2020 01:27:05 PM            Passed  02/19/2020 08:36:35 AM   \n",
       "2075072  11/12/2020 11:23:47 AM            Passed  11/24/2020 01:37:05 PM   \n",
       "2075076  02/27/2020 01:50:11 PM            Passed  03/11/2020 03:13:04 PM   \n",
       "\n",
       "                                    LOCATION  \n",
       "10444    (40.797563323422, -73.939145367645)  \n",
       "24351    (40.819244179353, -73.939342241831)  \n",
       "25041    (40.703845649853, -73.924382592822)  \n",
       "25071    (40.703845649853, -73.924382592822)  \n",
       "27418     (40.70279119063, -73.932426537761)  \n",
       "...                                      ...  \n",
       "2074961  (40.723680527621, -73.979692000943)  \n",
       "2075019  (40.728284754988, -73.988833253494)  \n",
       "2075034  (40.675588985547, -73.888385025946)  \n",
       "2075072  (40.655763790066, -73.910698626561)  \n",
       "2075076  (40.634123445194, -74.122480120253)  \n",
       "\n",
       "[26624 rows x 20 columns]"
      ]
     },
     "execution_count": 105,
     "metadata": {},
     "output_type": "execute_result"
    }
   ],
   "source": [
    "df_rodent_inspection"
   ]
  },
  {
   "cell_type": "code",
   "execution_count": 106,
   "metadata": {},
   "outputs": [
    {
     "data": {
      "text/plain": [
       "Brooklyn         8471\n",
       "Manhattan        8006\n",
       "Bronx            6089\n",
       "Queens           2982\n",
       "Staten Island    1076\n",
       "Name: BOROUGH, dtype: int64"
      ]
     },
     "execution_count": 106,
     "metadata": {},
     "output_type": "execute_result"
    }
   ],
   "source": [
    "df_rodent_inspection['BOROUGH'].value_counts()"
   ]
  },
  {
   "cell_type": "code",
   "execution_count": 107,
   "metadata": {},
   "outputs": [
    {
     "data": {
      "text/plain": [
       "Initial       16058\n",
       "BAIT           5769\n",
       "Compliance     4755\n",
       "STOPPAGE         25\n",
       "CLEAN_UPS        17\n",
       "Name: INSPECTION_TYPE, dtype: int64"
      ]
     },
     "execution_count": 107,
     "metadata": {},
     "output_type": "execute_result"
    }
   ],
   "source": [
    "df_rodent_inspection['INSPECTION_TYPE'].value_counts()"
   ]
  },
  {
   "cell_type": "code",
   "execution_count": 108,
   "metadata": {},
   "outputs": [
    {
     "data": {
      "text/plain": [
       "11221.0    985\n",
       "11216.0    922\n",
       "11237.0    853\n",
       "11238.0    658\n",
       "10025.0    590\n",
       "          ... \n",
       "11040.0      2\n",
       "10280.0      2\n",
       "10020.0      1\n",
       "10112.0      1\n",
       "11695.0      1\n",
       "Name: ZIP_CODE, Length: 182, dtype: int64"
      ]
     },
     "execution_count": 108,
     "metadata": {},
     "output_type": "execute_result"
    }
   ],
   "source": [
    "df_rodent_inspection['ZIP_CODE'].value_counts()"
   ]
  },
  {
   "cell_type": "code",
   "execution_count": 109,
   "metadata": {},
   "outputs": [
    {
     "data": {
      "text/plain": [
       "<AxesSubplot:>"
      ]
     },
     "execution_count": 109,
     "metadata": {},
     "output_type": "execute_result"
    },
    {
     "data": {
      "image/png": "[encoded data removed]",
      "text/plain": [
       "<Figure size 432x288 with 1 Axes>"
      ]
     },
     "metadata": {
      "needs_background": "light"
     },
     "output_type": "display_data"
    }
   ],
   "source": [
    "df_rodent_inspection['ZIP_CODE'].value_counts().plot(kind='bar')"
   ]
  },
  {
   "cell_type": "code",
   "execution_count": 110,
   "metadata": {},
   "outputs": [
    {
     "data": {
      "text/plain": [
       "Passed                11140\n",
       "Rat Activity           6856\n",
       "Bait applied           4687\n",
       "Failed for Other R     2817\n",
       "Monitoring visit       1082\n",
       "Stoppage done            25\n",
       "Cleanup done             17\n",
       "Name: RESULT, dtype: int64"
      ]
     },
     "execution_count": 110,
     "metadata": {},
     "output_type": "execute_result"
    }
   ],
   "source": [
    "df_rodent_inspection['RESULT'].value_counts()"
   ]
  },
  {
   "cell_type": "code",
   "execution_count": 111,
   "metadata": {},
   "outputs": [],
   "source": [
    "df_rodent_inspection_rats = df_rodent_inspection[df_rodent_inspection['RESULT'] == 'Rat Activity']"
   ]
  },
  {
   "cell_type": "code",
   "execution_count": 122,
   "metadata": {},
   "outputs": [
    {
     "data": {
      "text/plain": [
       "11216.0    291\n",
       "11238.0    260\n",
       "11237.0    254\n",
       "10025.0    233\n",
       "11221.0    217\n",
       "10458.0    183\n",
       "10468.0    178\n",
       "10029.0    177\n",
       "10456.0    142\n",
       "11206.0    140\n",
       "Name: ZIP_CODE, dtype: int64"
      ]
     },
     "execution_count": 122,
     "metadata": {},
     "output_type": "execute_result"
    }
   ],
   "source": [
    "df_rodent_inspection_rats['ZIP_CODE'].value_counts().nlargest(n=10)"
   ]
  },
  {
   "cell_type": "code",
   "execution_count": 115,
   "metadata": {},
   "outputs": [
    {
     "data": {
      "text/plain": [
       "Manhattan        2544\n",
       "Brooklyn         2146\n",
       "Bronx            1579\n",
       "Queens            509\n",
       "Staten Island      78\n",
       "Name: BOROUGH, dtype: int64"
      ]
     },
     "execution_count": 115,
     "metadata": {},
     "output_type": "execute_result"
    }
   ],
   "source": [
    "df_rodent_inspection_rats['BOROUGH'].value_counts()"
   ]
  },
  {
   "cell_type": "code",
   "execution_count": 114,
   "metadata": {},
   "outputs": [
    {
     "data": {
      "text/plain": [
       "<AxesSubplot:title={'center':'RAT ACTIVITY OCCURENCES IN YEAR 2020'}>"
      ]
     },
     "execution_count": 114,
     "metadata": {},
     "output_type": "execute_result"
    },
    {
     "data": {
      "image/png": "[encoded data removed]",
      "text/plain": [
       "<Figure size 432x288 with 1 Axes>"
      ]
     },
     "metadata": {
      "needs_background": "light"
     },
     "output_type": "display_data"
    }
   ],
   "source": [
    "df_rodent_inspection_rats['BOROUGH'].value_counts().plot(kind='bar', title=f'RAT ACTIVITY OCCURENCES IN YEAR {year}')"
   ]
  },
  {
   "cell_type": "code",
   "execution_count": null,
   "metadata": {},
   "outputs": [],
   "source": []
  }
 ],
 "metadata": {
  "kernelspec": {
   "display_name": "Python 3",
   "language": "python",
   "name": "python3"
  },
  "language_info": {
   "codemirror_mode": {
    "name": "ipython",
    "version": 3
   },
   "file_extension": ".py",
   "mimetype": "text/x-python",
   "name": "python",
   "nbconvert_exporter": "python",
   "pygments_lexer": "ipython3",
   "version": "3.8.5"
  }
 },
 "nbformat": 4,
 "nbformat_minor": 4
}
